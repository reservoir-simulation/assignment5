{
 "cells": [
  {
   "cell_type": "markdown",
   "metadata": {},
   "source": [
    "# Assignment 5\n",
    "\n",
    "Complete the class below to create a unit converter, that will take \"field\" units as inputs and return \"SI\" units.  All of the conversion factors you need are already stored as data attributes of the class."
   ]
  },
  {
   "cell_type": "code",
   "execution_count": 1,
   "metadata": {
    "collapsed": true
   },
   "outputs": [],
   "source": [
    "class FieldtoSI():\n",
    "    \n",
    "    def __init__(self):\n",
    "        \n",
    "        #centipoise to Pascal - S\n",
    "        self.cp_to_Pas = 0.001\n",
    "        #psi to Pascal\n",
    "        self.psi_to_Pa = 6894.76\n",
    "        #milli Darcy to square meter\n",
    "        self.mD_to_m2 = 9.869233e-16\n",
    "        #feet to meter\n",
    "        self.ft_to_m = 0.3048\n",
    "        #square feet to square meter\n",
    "        self.ft2_to_m2 = self.ft_to_m ** 2\n",
    "        #cubic feet to cubic meter\n",
    "        self.ft3_to_m3 = self.ft_to_m ** 3\n",
    "        #days to seconds\n",
    "        self.day_to_s = 86400\n",
    "        #cubic feet per second to cubic meter per second\n",
    "        self.ft3pd_to_m3ps = self.ft3_to_m3 / self.day_to_s\n",
    "        #pound per cubic feet to gram per cubic centimeter\n",
    "        self.lbpft3_to_gpc3 = 0.0160185\n",
    "        \n",
    "    def viscosity(self, viscosity):\n",
    "        return \n",
    "    \n",
    "    def pressure(self, pressure):\n",
    "        return \n",
    "            \n",
    "    def permeability(self, permeability):\n",
    "        return \n",
    "    \n",
    "    def length(self, length):\n",
    "        return \n",
    "    \n",
    "    def area(self, area):\n",
    "        return \n",
    "    \n",
    "    def volume(self, volume):\n",
    "        return \n",
    "    \n",
    "    def volume_rate(self, rate):\n",
    "        return \n",
    "            \n",
    "    def time(self, time):\n",
    "        return \n",
    "            \n",
    "    def density(self, density):\n",
    "        return\n",
    "            \n",
    "    def compressibility(self, compressibility):\n",
    "        return \n",
    "    \n",
    "    def temperature(self, temperature):\n",
    "        return "
   ]
  },
  {
   "cell_type": "markdown",
   "metadata": {},
   "source": [
    "Now create another class that will convert from \"SI\" to \"field\" units.  You **should** inherit most of the functions and redifine the data atrributes (the `temperature()` function will need it's own implementation here.  If you would like to inherit the data attributes from the `FieldtoSI()` class for any reason,  you may need to look into the functionality of the `super()` command.  The function definitions for this class, should be identical to the one above.  This is so you don't have to remember which function name is associated with the different classes/objects.  The ability to have identical function names, that act differently when operating on different objects is called *polymorphism* in object-oriented programming.  For example, with these two classes, you can have one function called `temperature()` that converts from \"field\" to \"SI\" when operating on an `FieldtoSI()` object, and the identical function name will convert from \"SI\" to \"field\" when operating on a `SItoField()` object."
   ]
  },
  {
   "cell_type": "code",
   "execution_count": 2,
   "metadata": {
    "collapsed": true
   },
   "outputs": [],
   "source": [
    "class SItoField(FieldtoSI):\n",
    "    \n",
    "    def __init__(self):\n",
    "        return"
   ]
  }
 ],
 "metadata": {
  "kernelspec": {
   "display_name": "Python 3",
   "language": "python",
   "name": "python3"
  },
  "language_info": {
   "codemirror_mode": {
    "name": "ipython",
    "version": 3
   },
   "file_extension": ".py",
   "mimetype": "text/x-python",
   "name": "python",
   "nbconvert_exporter": "python",
   "pygments_lexer": "ipython3",
   "version": "3.6.5"
  }
 },
 "nbformat": 4,
 "nbformat_minor": 2
}
